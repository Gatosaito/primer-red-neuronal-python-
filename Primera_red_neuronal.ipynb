{
  "nbformat": 4,
  "nbformat_minor": 0,
  "metadata": {
    "colab": {
      "provenance": [],
      "authorship_tag": "ABX9TyMN+ki+E9A1Sp9soMna0SPn",
      "include_colab_link": true
    },
    "kernelspec": {
      "name": "python3",
      "display_name": "Python 3"
    },
    "language_info": {
      "name": "python"
    }
  },
  "cells": [
    {
      "cell_type": "markdown",
      "metadata": {
        "id": "view-in-github",
        "colab_type": "text"
      },
      "source": [
        "<a href=\"https://colab.research.google.com/github/Gatosaito/primer-red-neuronal-python-/blob/main/Primera_red_neuronal.ipynb\" target=\"_parent\"><img src=\"https://colab.research.google.com/assets/colab-badge.svg\" alt=\"Open In Colab\"/></a>"
      ]
    },
    {
      "cell_type": "code",
      "execution_count": 68,
      "metadata": {
        "id": "lLndXT8afSCG"
      },
      "outputs": [],
      "source": [
        "import tensorflow as tf  # Importa la biblioteca TensorFlow para trabajar con redes neuronales y operaciones de flujo de datos.\n",
        "import numpy as np  # Importa la biblioteca NumPy para realizar operaciones matemáticas de alto nivel en matrices y vectores."
      ]
    },
    {
      "cell_type": "code",
      "source": [
        "# Define una matriz NumPy que contiene valores de temperatura en grados Celsius.\n",
        "celsius = np.array([-245, -100, -55, -40, -10, 0, 0.5, 8, 15, 22, 23, 35, 38, 46, 100, 200], dtype=float)\n",
        "\n",
        "# Define una matriz NumPy que contiene valores de temperatura en grados Fahrenheit.\n",
        "fahrenheit = np.array([-409, -148, -67, -40, 14, 32, 32.9, 46, 59, 72, 73.4, 95, 100, 114.8, 212, 392], dtype=float)"
      ],
      "metadata": {
        "id": "04s1kHLdfhHz"
      },
      "execution_count": 69,
      "outputs": []
    },
    {
      "cell_type": "code",
      "source": [
        "# Define una capa densa con una unidad y una forma de entrada de longitud 1.\n",
        "capa = tf.keras.layers.Dense(units=1, input_shape=[1])\n",
        "\n",
        "# Crea un modelo secuencial que contiene solo la capa definida anteriormente.\n",
        "modelo = tf.keras.Sequential([capa])\n",
        "\n",
        "# Define las capas ocultas del segundo modelo.\n",
        "oculta1 = tf.keras.layers.Dense(units=3, input_shape=[1])  # Primera capa oculta con 3 unidades y forma de entrada de longitud 1.\n",
        "oculta2 = tf.keras.layers.Dense(units=3)  # Segunda capa oculta con 3 unidades.\n",
        "oculta3 = tf.keras.layers.Dense(units=3)  # Tercera capa oculta con 3 unidades.\n",
        "oculta4 = tf.keras.layers.Dense(units=3)  # Cuarta capa oculta con 3 unidades.\n",
        "\n",
        "# Define la capa de salida del segundo modelo con una unidad.\n",
        "salida = tf.keras.layers.Dense(units=1)\n",
        "\n",
        "# Crea un modelo secuencial que contiene las capas ocultas y la capa de salida definidas anteriormente.\n",
        "modelo = tf.keras.Sequential([oculta1, oculta2, oculta3, oculta4, salida])"
      ],
      "metadata": {
        "id": "OGeXMHPdf8Oo"
      },
      "execution_count": 70,
      "outputs": []
    },
    {
      "cell_type": "code",
      "source": [
        "modelo.compile(\n",
        "    optimizer=tf.keras.optimizers.Adam(0.1),  # Selecciona el optimizador Adam con una tasa de aprendizaje de 0.1.\n",
        "    loss='mean_squared_error'  # Utiliza la función de pérdida de error cuadrático medio (MSE).\n",
        ")"
      ],
      "metadata": {
        "id": "upjIlpSJgUqc"
      },
      "execution_count": 71,
      "outputs": []
    },
    {
      "cell_type": "code",
      "source": [
        "print(\"Comenzando entrenamiento...\")  # Imprime un mensaje indicando que el entrenamiento está a punto de comenzar.\n",
        "\n",
        "# Entrena el modelo utilizando los datos de entrada (celsius) y salida esperada (fahrenheit).\n",
        "# Entrena el modelo durante 1000 épocas y guarda el historial del entrenamiento en la variable historial.\n",
        "historial = modelo.fit(celsius, fahrenheit, epochs=1000, verbose=False)\n",
        "\n",
        "print(\"Modelo entrenado\")  # Imprime un mensaje indicando que el entrenamiento ha finalizado."
      ],
      "metadata": {
        "colab": {
          "base_uri": "https://localhost:8080/"
        },
        "id": "Jcw9PSxUhLbX",
        "outputId": "f4ad17c2-6799-4e85-f977-8dd28d2bac53"
      },
      "execution_count": 72,
      "outputs": [
        {
          "output_type": "stream",
          "name": "stdout",
          "text": [
            "Comenzando entrenamiento...\n",
            "Modelo entrenado\n"
          ]
        }
      ]
    },
    {
      "cell_type": "code",
      "source": [
        "import matplotlib.pyplot as plt  # Importa la biblioteca matplotlib para visualización de datos.\n",
        "\n",
        "plt.xlabel(\"# época\")  # Etiqueta del eje x del gráfico.\n",
        "plt.ylabel(\"Magnitud de pérdida\")  # Etiqueta del eje y del gráfico.\n",
        "\n",
        "# Utiliza la función plot() para trazar el gráfico de la magnitud de pérdida a lo largo de las épocas.\n",
        "# Utiliza el historial del entrenamiento para obtener la magnitud de pérdida en cada época.\n",
        "plt.plot(historial.history[\"loss\"])  # Plotea la magnitud de pérdida en función del número de época.\n"
      ],
      "metadata": {
        "colab": {
          "base_uri": "https://localhost:8080/",
          "height": 467
        },
        "id": "8kjtlSdOiDPn",
        "outputId": "01df598b-0cde-429d-e242-05cc228ed3f3"
      },
      "execution_count": 73,
      "outputs": [
        {
          "output_type": "execute_result",
          "data": {
            "text/plain": [
              "[<matplotlib.lines.Line2D at 0x7dfb65d27f70>]"
            ]
          },
          "metadata": {},
          "execution_count": 73
        },
        {
          "output_type": "display_data",
          "data": {
            "text/plain": [
              "<Figure size 640x480 with 1 Axes>"
            ],
            "image/png": "[encoded data removed]"
          },
          "metadata": {}
        }
      ]
    },
    {
      "cell_type": "code",
      "source": [
        "print(\"Hagamos una predicción!\")  # Imprime un mensaje indicando que se realizará una predicción.\n",
        "\n",
        "# Utiliza el modelo entrenado para hacer una predicción sobre la temperatura en Fahrenheit para 25.5 grados Celsius.\n",
        "resultado = modelo.predict([25.5])\n",
        "\n",
        "# Imprime el resultado de la predicción.\n",
        "# Nota: El resultado es una matriz NumPy, por lo que necesitamos convertirlo a una cadena para imprimirlo.\n",
        "print(\"El resultado es \" + str(resultado) + \" Fahrenheit!\")  # Imprime el resultado de la predicción.\n"
      ],
      "metadata": {
        "colab": {
          "base_uri": "https://localhost:8080/"
        },
        "id": "3wHBZGnwii31",
        "outputId": "d0cb94f3-8206-4b7d-f6f2-1bd57d46893b"
      },
      "execution_count": 74,
      "outputs": [
        {
          "output_type": "stream",
          "name": "stdout",
          "text": [
            "Hagamos una predicción!\n",
            "1/1 [==============================] - 0s 93ms/step\n",
            "El resultado es [[77.873474]] Fahrenheit!\n"
          ]
        }
      ]
    },
    {
      "cell_type": "code",
      "source": [
        "print(\"Variables internas del modelo\")  # Imprime un mensaje indicando que se mostrarán las variables internas del modelo.\n",
        "\n",
        "# Imprime los pesos y sesgos de las capas ocultas y de salida del modelo.\n",
        "# Nota: Para acceder a los pesos y sesgos de una capa, se utiliza el método get_weights().\n",
        "# Esto devolverá una lista de dos elementos: el primer elemento son los pesos y el segundo elemento son los sesgos.\n",
        "# Imprime los pesos y sesgos de la primera capa oculta.\n",
        "print(oculta1.get_weights())\n",
        "# Imprime los pesos y sesgos de la segunda capa oculta.\n",
        "print(oculta2.get_weights())\n",
        "# Imprime los pesos y sesgos de la tercera capa oculta.\n",
        "print(oculta3.get_weights())\n",
        "# Imprime los pesos y sesgos de la capa de salida.\n",
        "print(salida.get_weights())\n"
      ],
      "metadata": {
        "colab": {
          "base_uri": "https://localhost:8080/"
        },
        "id": "PdPiZc2hjMpc",
        "outputId": "a9916968-80b6-49fa-e18f-b9368ec1f42e"
      },
      "execution_count": 75,
      "outputs": [
        {
          "output_type": "stream",
          "name": "stdout",
          "text": [
            "Variables internas del modelo\n",
            "[array([[-1.0552708 ,  0.42157492,  0.04625059]], dtype=float32), array([-3.773786 ,  3.8012671,  2.5426867], dtype=float32)]\n",
            "[array([[-0.59810257,  0.21758573, -0.77437395],\n",
            "       [ 0.26700646,  0.12703383,  0.7701716 ],\n",
            "       [-0.21331297, -0.26579693,  0.4646265 ]], dtype=float32), array([ 3.8760262, -2.612133 ,  3.8914416], dtype=float32)]\n",
            "[array([[-0.31899607,  0.5808859 ,  0.5275857 ],\n",
            "       [ 0.37112278, -0.06231502,  0.5013104 ],\n",
            "       [-0.38900205,  0.90083086, -0.3623884 ]], dtype=float32), array([-3.598851 ,  4.0084496, -2.1728795], dtype=float32)]\n",
            "[array([[-0.03276018],\n",
            "       [ 0.6643881 ],\n",
            "       [-0.6118194 ]], dtype=float32), array([3.6847987], dtype=float32)]\n"
          ]
        }
      ]
    }
  ]
}